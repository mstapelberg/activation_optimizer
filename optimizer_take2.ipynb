{
 "cells": [
  {
   "cell_type": "code",
   "execution_count": 1,
   "metadata": {},
   "outputs": [
    {
     "name": "stderr",
     "output_type": "stream",
     "text": [
      "/var/folders/p0/vc4k8wq14yx5wd2wvcxs3qhh0000gn/T/ipykernel_12481/1100574127.py:3: DeprecationWarning: \n",
      "Pyarrow will become a required dependency of pandas in the next major release of pandas (pandas 3.0),\n",
      "(to allow more performant data types, such as the Arrow string type, and better interoperability with other libraries)\n",
      "but was not found to be installed on your system.\n",
      "If this would cause problems for you,\n",
      "please provide us feedback at https://github.com/pandas-dev/pandas/issues/54466\n",
      "        \n",
      "  import pandas as pd\n"
     ]
    }
   ],
   "source": [
    "import numpy as np\n",
    "from itertools import product\n",
    "import pandas as pd\n",
    "import os, json, sys\n",
    "import matplotlib.pyplot as plt\n"
   ]
  },
  {
   "cell_type": "code",
   "execution_count": 2,
   "metadata": {},
   "outputs": [],
   "source": [
    "# cached interpolators\n",
    "from functools import lru_cache\n",
    "from scipy.interpolate import interp1d\n",
    "import numpy as np\n",
    "\n",
    "\n",
    "def interpolate_element_data(time_data, value_data, fit_type='linear'):\n",
    "    \"\"\"\n",
    "    Interpolates the element data with an option for linear or logarithmic fitting.\n",
    "    Returns a cached interpolation function.\n",
    "    \"\"\"\n",
    "    time_data = np.array(time_data)\n",
    "    value_data = np.array(value_data)\n",
    "\n",
    "    if fit_type == 'log':\n",
    "        min_positive = np.min(value_data[value_data > 0]) if np.any(value_data > 0) else 1e-10\n",
    "        value_data = np.log(np.where(value_data > 0, value_data, min_positive))\n",
    "        interpolator = interp1d(time_data, value_data, kind='linear', fill_value=\"extrapolate\", bounds_error=False)\n",
    "        # Cache the result of the exponentiated interpolation\n",
    "        @lru_cache(maxsize=None)  # No limit to cache size\n",
    "        def cached_interpolator(x):\n",
    "            return np.exp(interpolator(x))\n",
    "        return cached_interpolator\n",
    "    else:\n",
    "        interpolator = interp1d(time_data, value_data, kind='linear', fill_value=\"extrapolate\")\n",
    "        # Cache the linear interpolation\n",
    "        @lru_cache(maxsize=None)  # No limit to cache size\n",
    "        def cached_interpolator(x):\n",
    "            return interpolator(x)\n",
    "        return cached_interpolator\n",
    "\n",
    "# get a list of the json files in the ../fispact_data directory\n",
    "\n",
    "def create_interpolators(data_path, fit_type='linear', verbose=False):\n",
    "    \"\"\"\n",
    "    Creates interpolation functions for each element based on data from JSON files.\n",
    "\n",
    "    Parameters:\n",
    "    data_path (str): The path to the directory containing the JSON files.\n",
    "\n",
    "    Returns:\n",
    "    dict: A dictionary where the keys are element names and the values are interpolation functions.\n",
    "\n",
    "    \"\"\"\n",
    "    json_files = [f for f in os.listdir(data_path) if f.endswith('.json')]\n",
    "    if verbose:\n",
    "        print(json_files)\n",
    "\n",
    "    # Load the data from the json files and create interpolation functions for each element\n",
    "    element_data = {}\n",
    "    for file in json_files:\n",
    "        data = json.load(open(os.path.join('./fispact_data', file), 'r'))\n",
    "        element = file.split('.')[0]\n",
    "        time_data = [entry['cooling_time'] for entry in data['inventory_data']]\n",
    "        value_data = [entry['dose_rate']['dose'] for entry in data['inventory_data']]\n",
    "        element_data[element] = interpolate_element_data(time_data, value_data, fit_type=fit_type)\n",
    "    \n",
    "    return element_data\n",
    "import pandas as pd\n",
    "import plotly.express as px\n",
    "\n",
    "import pandas as pd\n",
    "\n",
    "def create_dataframe_from_dict(data_dict):\n",
    "    \"\"\"\n",
    "    Converts a dictionary with nested 'composition' and optional 'fitness' into a DataFrame.\n",
    "    \n",
    "    Args:\n",
    "    data_dict (dict): Dictionary with keys as indices and values containing 'composition' and optionally 'fitness'.\n",
    "    \n",
    "    Returns:\n",
    "    pd.DataFrame: DataFrame with compositions and fitness as columns.\n",
    "    \"\"\"\n",
    "    # Prepare lists to hold compositions and fitness values\n",
    "    compositions = []\n",
    "    fitness_values = []\n",
    "    \n",
    "    # Iterate through the dictionary to extract compositions and fitness values\n",
    "    for key, value in data_dict.items():\n",
    "        compositions.append(value['composition'])\n",
    "        # Check if fitness is present\n",
    "        if 'fitness' in value:\n",
    "            fitness_values.append(value['fitness'][0])  # Assuming fitness is always a list with one item\n",
    "\n",
    "    # Create DataFrame from compositions\n",
    "    df_compositions = pd.DataFrame(compositions)\n",
    "    \n",
    "    # Add fitness column if fitness values were extracted\n",
    "    if fitness_values:\n",
    "        df_compositions['Fitness'] = fitness_values\n",
    "    \n",
    "    return df_compositions\n",
    "\n",
    "\n",
    "import plotly.graph_objects as go\n",
    "import pandas as pd\n",
    "\n",
    "def create_parallel_coordinates_plot(df, fitness_col=None, in_percent=False, num_compositions=100):\n",
    "    \"\"\"\n",
    "    Creates an interactive parallel coordinates plot from a DataFrame using Plotly Graph Objects,\n",
    "    limiting the number of compositions displayed to `num_compositions`.\n",
    "\n",
    "    Args:\n",
    "    df (pd.DataFrame): DataFrame containing composition data with columns as elements.\n",
    "    fitness_col (str, optional): Column name for the fitness values, used for coloring.\n",
    "    in_percent (bool, optional): Whether to convert the composition values to percentages.\n",
    "    num_compositions (int, optional): The number of compositions to display on the plot.\n",
    "\n",
    "    Returns:\n",
    "    go.Figure: The interactive plot.\n",
    "    \"\"\"\n",
    "    if in_percent:\n",
    "        df = df.copy()  # Create a copy to avoid modifying the original DataFrame\n",
    "        for col in df.columns:\n",
    "            if col != fitness_col:\n",
    "                df[col] *= 100\n",
    "\n",
    "    # Sort the DataFrame based on fitness column and take the top compositions\n",
    "    if fitness_col and fitness_col in df.columns:\n",
    "        df = df.sort_values(by=fitness_col).head(num_compositions)\n",
    "\n",
    "    # Define labels with or without percentage units\n",
    "    labels = {col: f\"{col} (wt%)\" if in_percent else col for col in df.columns if col != fitness_col}\n",
    "    \n",
    "    # Setting up dimensions for the parallel coordinates plot\n",
    "    dimensions = []\n",
    "    color = None\n",
    "    for col in df.columns:\n",
    "        if col != fitness_col:\n",
    "            dimensions.append(\n",
    "                go.parcats.Dimension(values=df[col], label=labels[col])\n",
    "            )\n",
    "        else:\n",
    "            # Use the fitness column as a color dimension\n",
    "            color = df[fitness_col]\n",
    "\n",
    "    # Create the parallel coordinates plot\n",
    "    fig = go.Figure(\n",
    "        data=go.Parcats(\n",
    "            dimensions=dimensions,\n",
    "            line=dict(\n",
    "                color=color,\n",
    "                colorscale=px.colors.diverging.Tealrose,\n",
    "                cmin=color.min(),\n",
    "                cmax=color.max()\n",
    "            ),\n",
    "            hoveron='color', # Enable hover for color (dimension values)\n",
    "            hoverinfo='all',\n",
    "            labelfont=dict(size=12),\n",
    "            tickfont=dict(size=10),\n",
    "            arrangement='freeform'\n",
    "        )\n",
    "    )\n",
    "    \n",
    "    return fig\n"
   ]
  },
  {
   "cell_type": "code",
   "execution_count": 3,
   "metadata": {},
   "outputs": [],
   "source": [
    "import plotly.graph_objects as go\n",
    "import pandas as pd\n",
    "import plotly.express as px  # To use for color scales and other utilities\n",
    "\n",
    "def create_parallel_coordinates_plot(df, fitness_col=None, in_percent=False, num_compositions=100):\n",
    "    \"\"\"\n",
    "    Enhanced interactive parallel coordinates plot with better aesthetics and clear representation of fitness.\n",
    "\n",
    "    Args:\n",
    "    df (pd.DataFrame): DataFrame containing composition data.\n",
    "    fitness_col (str, optional): Column name for the fitness values, used for coloring.\n",
    "    in_percent (bool, optional): Convert composition values to percentages.\n",
    "    num_compositions (int, optional): Number of compositions to display on the plot.\n",
    "\n",
    "    Returns:\n",
    "    go.Figure: The interactive plot with improved aesthetics.\n",
    "    \"\"\"\n",
    "    if in_percent:\n",
    "        df = df.copy()  # Avoid modifying the original DataFrame\n",
    "        for col in df.columns:\n",
    "            if col != fitness_col:\n",
    "                df[col] *= 100  # Convert to percentage\n",
    "\n",
    "    # Sorting and selecting top compositions based on fitness\n",
    "    if fitness_col and fitness_col in df.columns:\n",
    "        df = df.sort_values(by=fitness_col, ascending=True).head(num_compositions)  # Sort for better fitness scores\n",
    "\n",
    "    # Setting labels for dimensions, considering percentage units\n",
    "    labels = {col: f\"{col} (%)\" if in_percent else col for col in df.columns if col != fitness_col}\n",
    "\n",
    "    # Setup dimensions for the plot\n",
    "    dimensions = [\n",
    "        go.parcats.Dimension(values=df[col], label=labels[col]) for col in df.columns if col != fitness_col\n",
    "    ]\n",
    "\n",
    "    # Determine color scale based on fitness\n",
    "    color = df[fitness_col] if fitness_col in df.columns else None\n",
    "\n",
    "    fig = go.Figure(\n",
    "        data=go.Parcats(\n",
    "            dimensions=dimensions,\n",
    "            line=dict(\n",
    "                color=color,\n",
    "                colorscale='Viridis',  # Using a perceptually uniform colorscale\n",
    "                cmin=color.min(),\n",
    "                cmax=color.max(),\n",
    "                showscale=True  # Show color scale to indicate fitness values\n",
    "            ),\n",
    "            hoveron='color',  # Hover effect on color dimension\n",
    "            hoverinfo='all',\n",
    "            labelfont=dict(size=12),\n",
    "            tickfont=dict(size=10),\n",
    "            arrangement='freeform'\n",
    "        )\n",
    "    )\n",
    "\n",
    "    fig.update_layout(\n",
    "        title=\"Parallel Coordinates Plot for Material Compositions\",\n",
    "        title_font_size=20,\n",
    "        plot_bgcolor='white',\n",
    "        paper_bgcolor='white'\n",
    "    )\n",
    "\n",
    "    return fig\n"
   ]
  },
  {
   "cell_type": "code",
   "execution_count": 13,
   "metadata": {},
   "outputs": [],
   "source": [
    "import plotly.graph_objects as go\n",
    "import pandas as pd\n",
    "import plotly.express as px  # For color scales\n",
    "\n",
    "def create_parallel_coordinates_plot(df, fitness_col=None, in_percent=False, num_compositions=100):\n",
    "    if in_percent:\n",
    "        df = df.copy()  # Avoid modifying the original DataFrame\n",
    "        for col in df.columns:\n",
    "            if col != fitness_col:\n",
    "                df[col] = round(df[col] * 100, 2)  # Convert to percentage and round off\n",
    "\n",
    "    # Sorting and selecting top compositions based on fitness\n",
    "    if fitness_col and fitness_col in df.columns:\n",
    "        df = df.sort_values(by=fitness_col, ascending=True).head(num_compositions)\n",
    "\n",
    "    # Set up dimensions for the plot with ordered categories\n",
    "    dimensions = [\n",
    "        go.parcats.Dimension(\n",
    "            values=df[col].sort_values(ascending=False).values,  # Sort values descending for the plot\n",
    "            label=f\"{col} (%)\" if in_percent else col,\n",
    "            categoryorder='array',  # Ensure that the category order is respected as given\n",
    "            categoryarray=df[col].sort_values(ascending=False).values  # Explicit array of categories\n",
    "        ) for col in df.columns if col != fitness_col\n",
    "    ]\n",
    "\n",
    "    # Determine color scale based on fitness\n",
    "    color = df[fitness_col] if fitness_col in df.columns else None\n",
    "\n",
    "    fig = go.Figure(\n",
    "        data=go.Parcats(\n",
    "            dimensions=dimensions,\n",
    "            line=dict(\n",
    "                color=color,\n",
    "                colorscale='Viridis',  # Using a perceptually uniform colorscale\n",
    "                cmin=color.min(),\n",
    "                cmax=color.max(),\n",
    "                showscale=True  # Show color scale to indicate fitness values\n",
    "            ),\n",
    "            hoveron='color',  # Hover effect on color dimension\n",
    "            hoverinfo='all',\n",
    "            labelfont=dict(size=12),\n",
    "            tickfont=dict(size=10),\n",
    "            arrangement='freeform'\n",
    "        )\n",
    "    )\n",
    "\n",
    "    fig.update_layout(\n",
    "        title=\"Parallel Coordinates Plot for Material Compositions\",\n",
    "        title_font_size=20,\n",
    "        plot_bgcolor='white',\n",
    "        paper_bgcolor='white'\n",
    "    )\n",
    "\n",
    "    return fig\n"
   ]
  },
  {
   "cell_type": "code",
   "execution_count": 5,
   "metadata": {},
   "outputs": [
    {
     "name": "stdout",
     "output_type": "stream",
     "text": [
      "['V', 'Ti', 'Zr', 'W', 'Cr']\n"
     ]
    }
   ],
   "source": [
    "#elements = ['', 'B', 'C', 'D', 'E']  # Example elements\n",
    "element_interpolators = create_interpolators('./fispact_data', fit_type='log')\n",
    "\n",
    "elements = list(element_interpolators.keys())\n",
    "print(elements)\n"
   ]
  },
  {
   "cell_type": "code",
   "execution_count": 8,
   "metadata": {},
   "outputs": [
    {
     "name": "stdout",
     "output_type": "stream",
     "text": [
      "Number of valid combinations: 126229\n"
     ]
    },
    {
     "name": "stderr",
     "output_type": "stream",
     "text": [
      "Evaluating combinations: 100%|██████████| 126229/126229 [00:01<00:00, 109636.39it/s]\n"
     ]
    }
   ],
   "source": [
    "import numpy as np\n",
    "from itertools import product\n",
    "from tqdm import tqdm  # Make sure tqdm is imported\n",
    "from itertools import product\n",
    "import numpy as np\n",
    "\n",
    "def get_steps(range_tuple, step):\n",
    "    return np.arange(range_tuple[0], range_tuple[1] + step, step)\n",
    "\n",
    "def generate_valid_combinations(ranges, tolerance=0.05):\n",
    "    for combo in product(*ranges):\n",
    "        if np.abs(sum(combo) - 1.0) <= tolerance:\n",
    "            yield combo\n",
    "\n",
    "def adaptive_grid_search(element_interpolators, comp_range, limits, step=0.01, tolerance=0.05):\n",
    "    elements = list(comp_range.keys())\n",
    "    ranges = [get_steps(comp_range[element], step) for element in elements]\n",
    "\n",
    "    # Use a generator to handle combinations\n",
    "    valid_combinations = list(generate_valid_combinations(ranges, tolerance))\n",
    "    print(f\"Number of valid combinations: {len(valid_combinations)}\")  # Debug statement\n",
    "\n",
    "    compositions_data = {}  # Dictionary to store all compositions and their penalties\n",
    "    best_score = float('inf')\n",
    "\n",
    "    # Evaluate each combination using tqdm for the progress bar\n",
    "    for idx, combo in tqdm(enumerate(valid_combinations), total=len(valid_combinations), desc='Evaluating combinations'):\n",
    "        composition = dict(zip(elements, combo))\n",
    "        total_penalty = 0\n",
    "\n",
    "        # Check each time point and limit\n",
    "        for limit in limits:\n",
    "            time = limit['time']\n",
    "            required_limit = limit['limit']\n",
    "            importance = limit['importance']\n",
    "\n",
    "            # Sum the interpolated values scaled by their proportions\n",
    "            total_value = sum(\n",
    "                element_interpolators[element](time) * composition[element]\n",
    "                for element in elements\n",
    "            )\n",
    "            delta = max(0, total_value - required_limit)\n",
    "            total_penalty += delta * importance\n",
    "\n",
    "        # Save composition and its penalty\n",
    "        compositions_data[idx] = {'composition': composition, 'fitness': [total_penalty]}\n",
    "\n",
    "        # Update best score\n",
    "        if total_penalty < best_score:\n",
    "            best_score = total_penalty\n",
    "\n",
    "    return compositions_data\n",
    "\n",
    "# Example limits\n",
    "limits = [\n",
    "    {'time': 3.41e7 / 12, 'limit': 1e4, 'importance': 0.5},\n",
    "    {'time': 3.41e7 * 2, 'limit': 1e2 / 2, 'importance': 1},\n",
    "    {'time': 3.41e7 * 10, 'limit': 1e0, 'importance': 2},\n",
    "    {'time': 3.41e7 * 100, 'limit': 1e-4, 'importance': 4}\n",
    "]\n",
    "\n",
    "# Example usage, assuming element_interpolators and limits are defined\n",
    "comp_range = {'V': (0.75, 1.0), 'Cr': (0.01, 0.25), 'Ti': (0.01, 0.3), 'W': (0.01, 0.2), 'Zr': (0.01, 0.2)}\n",
    "composition_data = adaptive_grid_search(element_interpolators, comp_range, limits)\n"
   ]
  },
  {
   "cell_type": "code",
   "execution_count": 14,
   "metadata": {},
   "outputs": [
    {
     "name": "stdout",
     "output_type": "stream",
     "text": [
      "      V    Cr    Ti     W    Zr   Fitness\n",
      "0  0.75  0.01  0.01  0.01  0.17  0.000309\n",
      "1  0.75  0.01  0.01  0.01  0.18  0.000350\n",
      "2  0.75  0.01  0.01  0.01  0.19  0.000390\n",
      "3  0.75  0.01  0.01  0.01  0.20  0.000430\n",
      "4  0.75  0.01  0.01  0.02  0.16  0.000271\n"
     ]
    },
    {
     "data": {
      "application/vnd.plotly.v1+json": {
       "config": {
        "plotlyServerURL": "https://plot.ly"
       },
       "data": [
        {
         "arrangement": "freeform",
         "dimensions": [
          {
           "categoryarray": [
            0.93,
            0.78,
            0.78,
            0.78,
            0.78,
            0.78,
            0.78,
            0.78,
            0.78,
            0.78,
            0.78,
            0.78,
            0.78,
            0.78,
            0.78,
            0.78,
            0.78,
            0.78,
            0.78,
            0.78,
            0.78,
            0.78,
            0.78,
            0.78,
            0.78,
            0.78,
            0.78,
            0.78,
            0.78,
            0.78,
            0.78,
            0.78,
            0.78,
            0.78,
            0.78,
            0.78,
            0.78,
            0.77,
            0.77,
            0.77,
            0.77,
            0.77,
            0.77,
            0.77,
            0.77,
            0.77,
            0.77,
            0.77,
            0.77,
            0.77,
            0.77,
            0.77,
            0.77,
            0.77,
            0.77,
            0.77,
            0.77,
            0.77,
            0.77,
            0.77,
            0.77,
            0.77,
            0.77,
            0.77,
            0.77,
            0.77,
            0.77,
            0.77,
            0.77,
            0.77,
            0.77,
            0.77,
            0.77,
            0.77,
            0.77,
            0.77,
            0.77,
            0.77,
            0.77,
            0.77,
            0.77,
            0.77,
            0.77,
            0.77,
            0.77,
            0.77,
            0.77,
            0.77,
            0.77,
            0.77,
            0.77,
            0.77,
            0.77,
            0.77,
            0.77,
            0.77,
            0.77,
            0.77,
            0.77,
            0.77
           ],
           "categoryorder": "array",
           "label": "V",
           "values": [
            0.93,
            0.78,
            0.78,
            0.78,
            0.78,
            0.78,
            0.78,
            0.78,
            0.78,
            0.78,
            0.78,
            0.78,
            0.78,
            0.78,
            0.78,
            0.78,
            0.78,
            0.78,
            0.78,
            0.78,
            0.78,
            0.78,
            0.78,
            0.78,
            0.78,
            0.78,
            0.78,
            0.78,
            0.78,
            0.78,
            0.78,
            0.78,
            0.78,
            0.78,
            0.78,
            0.78,
            0.78,
            0.77,
            0.77,
            0.77,
            0.77,
            0.77,
            0.77,
            0.77,
            0.77,
            0.77,
            0.77,
            0.77,
            0.77,
            0.77,
            0.77,
            0.77,
            0.77,
            0.77,
            0.77,
            0.77,
            0.77,
            0.77,
            0.77,
            0.77,
            0.77,
            0.77,
            0.77,
            0.77,
            0.77,
            0.77,
            0.77,
            0.77,
            0.77,
            0.77,
            0.77,
            0.77,
            0.77,
            0.77,
            0.77,
            0.77,
            0.77,
            0.77,
            0.77,
            0.77,
            0.77,
            0.77,
            0.77,
            0.77,
            0.77,
            0.77,
            0.77,
            0.77,
            0.77,
            0.77,
            0.77,
            0.77,
            0.77,
            0.77,
            0.77,
            0.77,
            0.77,
            0.77,
            0.77,
            0.77
           ]
          },
          {
           "categoryarray": [
            0.17,
            0.17,
            0.16,
            0.15,
            0.15,
            0.15,
            0.14,
            0.13,
            0.13,
            0.12,
            0.12,
            0.12,
            0.11,
            0.11,
            0.11,
            0.1,
            0.1,
            0.09,
            0.09,
            0.09,
            0.09,
            0.09,
            0.09,
            0.09,
            0.09,
            0.09,
            0.08,
            0.08,
            0.08,
            0.08,
            0.08,
            0.07,
            0.07,
            0.07,
            0.07,
            0.07,
            0.07,
            0.07,
            0.07,
            0.06,
            0.06,
            0.06,
            0.06,
            0.06,
            0.06,
            0.06,
            0.06,
            0.06,
            0.06,
            0.06,
            0.06,
            0.05,
            0.05,
            0.05,
            0.05,
            0.05,
            0.05,
            0.05,
            0.05,
            0.04,
            0.04,
            0.04,
            0.04,
            0.04,
            0.04,
            0.04,
            0.04,
            0.04,
            0.04,
            0.04,
            0.03,
            0.03,
            0.03,
            0.03,
            0.03,
            0.03,
            0.03,
            0.03,
            0.02,
            0.02,
            0.02,
            0.02,
            0.02,
            0.02,
            0.02,
            0.02,
            0.02,
            0.02,
            0.02,
            0.02,
            0.01,
            0.01,
            0.01,
            0.01,
            0.01,
            0.01,
            0.01,
            0.01,
            0.01,
            0.01
           ],
           "categoryorder": "array",
           "label": "Cr",
           "values": [
            0.17,
            0.17,
            0.16,
            0.15,
            0.15,
            0.15,
            0.14,
            0.13,
            0.13,
            0.12,
            0.12,
            0.12,
            0.11,
            0.11,
            0.11,
            0.1,
            0.1,
            0.09,
            0.09,
            0.09,
            0.09,
            0.09,
            0.09,
            0.09,
            0.09,
            0.09,
            0.08,
            0.08,
            0.08,
            0.08,
            0.08,
            0.07,
            0.07,
            0.07,
            0.07,
            0.07,
            0.07,
            0.07,
            0.07,
            0.06,
            0.06,
            0.06,
            0.06,
            0.06,
            0.06,
            0.06,
            0.06,
            0.06,
            0.06,
            0.06,
            0.06,
            0.05,
            0.05,
            0.05,
            0.05,
            0.05,
            0.05,
            0.05,
            0.05,
            0.04,
            0.04,
            0.04,
            0.04,
            0.04,
            0.04,
            0.04,
            0.04,
            0.04,
            0.04,
            0.04,
            0.03,
            0.03,
            0.03,
            0.03,
            0.03,
            0.03,
            0.03,
            0.03,
            0.02,
            0.02,
            0.02,
            0.02,
            0.02,
            0.02,
            0.02,
            0.02,
            0.02,
            0.02,
            0.02,
            0.02,
            0.01,
            0.01,
            0.01,
            0.01,
            0.01,
            0.01,
            0.01,
            0.01,
            0.01,
            0.01
           ]
          },
          {
           "categoryarray": [
            0.18,
            0.18,
            0.16,
            0.15,
            0.15,
            0.14,
            0.14,
            0.14,
            0.13,
            0.13,
            0.13,
            0.12,
            0.12,
            0.12,
            0.11,
            0.11,
            0.1,
            0.1,
            0.09,
            0.09,
            0.09,
            0.09,
            0.09,
            0.08,
            0.08,
            0.08,
            0.08,
            0.08,
            0.07,
            0.07,
            0.06,
            0.06,
            0.06,
            0.06,
            0.06,
            0.05,
            0.05,
            0.05,
            0.05,
            0.05,
            0.05,
            0.05,
            0.05,
            0.05,
            0.05,
            0.04,
            0.04,
            0.04,
            0.04,
            0.04,
            0.04,
            0.04,
            0.04,
            0.04,
            0.04,
            0.03,
            0.03,
            0.03,
            0.03,
            0.03,
            0.03,
            0.03,
            0.03,
            0.03,
            0.03,
            0.03,
            0.02,
            0.02,
            0.02,
            0.02,
            0.02,
            0.02,
            0.02,
            0.02,
            0.02,
            0.02,
            0.02,
            0.02,
            0.02,
            0.02,
            0.02,
            0.02,
            0.01,
            0.01,
            0.01,
            0.01,
            0.01,
            0.01,
            0.01,
            0.01,
            0.01,
            0.01,
            0.01,
            0.01,
            0.01,
            0.01,
            0.01,
            0.01,
            0.01,
            0.01
           ],
           "categoryorder": "array",
           "label": "Ti",
           "values": [
            0.18,
            0.18,
            0.16,
            0.15,
            0.15,
            0.14,
            0.14,
            0.14,
            0.13,
            0.13,
            0.13,
            0.12,
            0.12,
            0.12,
            0.11,
            0.11,
            0.1,
            0.1,
            0.09,
            0.09,
            0.09,
            0.09,
            0.09,
            0.08,
            0.08,
            0.08,
            0.08,
            0.08,
            0.07,
            0.07,
            0.06,
            0.06,
            0.06,
            0.06,
            0.06,
            0.05,
            0.05,
            0.05,
            0.05,
            0.05,
            0.05,
            0.05,
            0.05,
            0.05,
            0.05,
            0.04,
            0.04,
            0.04,
            0.04,
            0.04,
            0.04,
            0.04,
            0.04,
            0.04,
            0.04,
            0.03,
            0.03,
            0.03,
            0.03,
            0.03,
            0.03,
            0.03,
            0.03,
            0.03,
            0.03,
            0.03,
            0.02,
            0.02,
            0.02,
            0.02,
            0.02,
            0.02,
            0.02,
            0.02,
            0.02,
            0.02,
            0.02,
            0.02,
            0.02,
            0.02,
            0.02,
            0.02,
            0.01,
            0.01,
            0.01,
            0.01,
            0.01,
            0.01,
            0.01,
            0.01,
            0.01,
            0.01,
            0.01,
            0.01,
            0.01,
            0.01,
            0.01,
            0.01,
            0.01,
            0.01
           ]
          },
          {
           "categoryarray": [
            0.2,
            0.17,
            0.17,
            0.16,
            0.16,
            0.16,
            0.16,
            0.15,
            0.15,
            0.14,
            0.14,
            0.13,
            0.13,
            0.13,
            0.12,
            0.12,
            0.12,
            0.11,
            0.11,
            0.11,
            0.11,
            0.11,
            0.11,
            0.1,
            0.1,
            0.1,
            0.1,
            0.1,
            0.1,
            0.1,
            0.09,
            0.09,
            0.09,
            0.09,
            0.09,
            0.09,
            0.09,
            0.09,
            0.09,
            0.09,
            0.08,
            0.08,
            0.08,
            0.08,
            0.08,
            0.08,
            0.07,
            0.07,
            0.07,
            0.07,
            0.07,
            0.07,
            0.06,
            0.06,
            0.06,
            0.06,
            0.06,
            0.06,
            0.06,
            0.05,
            0.05,
            0.05,
            0.05,
            0.05,
            0.05,
            0.05,
            0.04,
            0.04,
            0.04,
            0.04,
            0.04,
            0.04,
            0.04,
            0.04,
            0.04,
            0.04,
            0.03,
            0.03,
            0.03,
            0.03,
            0.03,
            0.03,
            0.03,
            0.02,
            0.02,
            0.02,
            0.02,
            0.02,
            0.02,
            0.01,
            0.01,
            0.01,
            0.01,
            0.01,
            0.01,
            0.01,
            0.01,
            0.01,
            0.01,
            0.01
           ],
           "categoryorder": "array",
           "label": "W",
           "values": [
            0.2,
            0.17,
            0.17,
            0.16,
            0.16,
            0.16,
            0.16,
            0.15,
            0.15,
            0.14,
            0.14,
            0.13,
            0.13,
            0.13,
            0.12,
            0.12,
            0.12,
            0.11,
            0.11,
            0.11,
            0.11,
            0.11,
            0.11,
            0.1,
            0.1,
            0.1,
            0.1,
            0.1,
            0.1,
            0.1,
            0.09,
            0.09,
            0.09,
            0.09,
            0.09,
            0.09,
            0.09,
            0.09,
            0.09,
            0.09,
            0.08,
            0.08,
            0.08,
            0.08,
            0.08,
            0.08,
            0.07,
            0.07,
            0.07,
            0.07,
            0.07,
            0.07,
            0.06,
            0.06,
            0.06,
            0.06,
            0.06,
            0.06,
            0.06,
            0.05,
            0.05,
            0.05,
            0.05,
            0.05,
            0.05,
            0.05,
            0.04,
            0.04,
            0.04,
            0.04,
            0.04,
            0.04,
            0.04,
            0.04,
            0.04,
            0.04,
            0.03,
            0.03,
            0.03,
            0.03,
            0.03,
            0.03,
            0.03,
            0.02,
            0.02,
            0.02,
            0.02,
            0.02,
            0.02,
            0.01,
            0.01,
            0.01,
            0.01,
            0.01,
            0.01,
            0.01,
            0.01,
            0.01,
            0.01,
            0.01
           ]
          },
          {
           "categoryarray": [
            0.1,
            0.1,
            0.1,
            0.09,
            0.09,
            0.08,
            0.08,
            0.08,
            0.08,
            0.08,
            0.08,
            0.08,
            0.07,
            0.07,
            0.07,
            0.07,
            0.07,
            0.07,
            0.07,
            0.07,
            0.07,
            0.07,
            0.06,
            0.06,
            0.06,
            0.06,
            0.06,
            0.06,
            0.06,
            0.06,
            0.06,
            0.06,
            0.06,
            0.05,
            0.05,
            0.05,
            0.05,
            0.05,
            0.05,
            0.05,
            0.05,
            0.04,
            0.04,
            0.04,
            0.04,
            0.04,
            0.04,
            0.04,
            0.04,
            0.03,
            0.03,
            0.03,
            0.03,
            0.03,
            0.03,
            0.03,
            0.03,
            0.03,
            0.03,
            0.03,
            0.03,
            0.03,
            0.03,
            0.03,
            0.03,
            0.03,
            0.03,
            0.03,
            0.03,
            0.02,
            0.02,
            0.02,
            0.02,
            0.02,
            0.02,
            0.02,
            0.02,
            0.02,
            0.02,
            0.02,
            0.02,
            0.02,
            0.02,
            0.02,
            0.01,
            0.01,
            0.01,
            0.01,
            0.01,
            0.01,
            0.01,
            0.01,
            0.01,
            0.01,
            0.01,
            0.01,
            0.01,
            0.01,
            0.01,
            0.01
           ],
           "categoryorder": "array",
           "label": "Zr",
           "values": [
            0.1,
            0.1,
            0.1,
            0.09,
            0.09,
            0.08,
            0.08,
            0.08,
            0.08,
            0.08,
            0.08,
            0.08,
            0.07,
            0.07,
            0.07,
            0.07,
            0.07,
            0.07,
            0.07,
            0.07,
            0.07,
            0.07,
            0.06,
            0.06,
            0.06,
            0.06,
            0.06,
            0.06,
            0.06,
            0.06,
            0.06,
            0.06,
            0.06,
            0.05,
            0.05,
            0.05,
            0.05,
            0.05,
            0.05,
            0.05,
            0.05,
            0.04,
            0.04,
            0.04,
            0.04,
            0.04,
            0.04,
            0.04,
            0.04,
            0.03,
            0.03,
            0.03,
            0.03,
            0.03,
            0.03,
            0.03,
            0.03,
            0.03,
            0.03,
            0.03,
            0.03,
            0.03,
            0.03,
            0.03,
            0.03,
            0.03,
            0.03,
            0.03,
            0.03,
            0.02,
            0.02,
            0.02,
            0.02,
            0.02,
            0.02,
            0.02,
            0.02,
            0.02,
            0.02,
            0.02,
            0.02,
            0.02,
            0.02,
            0.02,
            0.01,
            0.01,
            0.01,
            0.01,
            0.01,
            0.01,
            0.01,
            0.01,
            0.01,
            0.01,
            0.01,
            0.01,
            0.01,
            0.01,
            0.01,
            0.01
           ]
          }
         ],
         "hoverinfo": "all",
         "hoveron": "color",
         "labelfont": {
          "size": 12
         },
         "line": {
          "cmax": 0,
          "cmin": 0,
          "color": [
           0,
           0,
           0,
           0,
           0,
           0,
           0,
           0,
           0,
           0,
           0,
           0,
           0,
           0,
           0,
           0,
           0,
           0,
           0,
           0,
           0,
           0,
           0,
           0,
           0,
           0,
           0,
           0,
           0,
           0,
           0,
           0,
           0,
           0,
           0,
           0,
           0,
           0,
           0,
           0,
           0,
           0,
           0,
           0,
           0,
           0,
           0,
           0,
           0,
           0,
           0,
           0,
           0,
           0,
           0,
           0,
           0,
           0,
           0,
           0,
           0,
           0,
           0,
           0,
           0,
           0,
           0,
           0,
           0,
           0,
           0,
           0,
           0,
           0,
           0,
           0,
           0,
           0,
           0,
           0,
           0,
           0,
           0,
           0,
           0,
           0,
           0,
           0,
           0,
           0,
           0,
           0,
           0,
           0,
           0,
           0,
           0,
           0,
           0,
           0
          ],
          "colorscale": [
           [
            0,
            "#440154"
           ],
           [
            0.1111111111111111,
            "#482878"
           ],
           [
            0.2222222222222222,
            "#3e4989"
           ],
           [
            0.3333333333333333,
            "#31688e"
           ],
           [
            0.4444444444444444,
            "#26828e"
           ],
           [
            0.5555555555555556,
            "#1f9e89"
           ],
           [
            0.6666666666666666,
            "#35b779"
           ],
           [
            0.7777777777777778,
            "#6ece58"
           ],
           [
            0.8888888888888888,
            "#b5de2b"
           ],
           [
            1,
            "#fde725"
           ]
          ],
          "showscale": true
         },
         "tickfont": {
          "size": 10
         },
         "type": "parcats"
        }
       ],
       "layout": {
        "paper_bgcolor": "white",
        "plot_bgcolor": "white",
        "template": {
         "data": {
          "bar": [
           {
            "error_x": {
             "color": "#2a3f5f"
            },
            "error_y": {
             "color": "#2a3f5f"
            },
            "marker": {
             "line": {
              "color": "#E5ECF6",
              "width": 0.5
             },
             "pattern": {
              "fillmode": "overlay",
              "size": 10,
              "solidity": 0.2
             }
            },
            "type": "bar"
           }
          ],
          "barpolar": [
           {
            "marker": {
             "line": {
              "color": "#E5ECF6",
              "width": 0.5
             },
             "pattern": {
              "fillmode": "overlay",
              "size": 10,
              "solidity": 0.2
             }
            },
            "type": "barpolar"
           }
          ],
          "carpet": [
           {
            "aaxis": {
             "endlinecolor": "#2a3f5f",
             "gridcolor": "white",
             "linecolor": "white",
             "minorgridcolor": "white",
             "startlinecolor": "#2a3f5f"
            },
            "baxis": {
             "endlinecolor": "#2a3f5f",
             "gridcolor": "white",
             "linecolor": "white",
             "minorgridcolor": "white",
             "startlinecolor": "#2a3f5f"
            },
            "type": "carpet"
           }
          ],
          "choropleth": [
           {
            "colorbar": {
             "outlinewidth": 0,
             "ticks": ""
            },
            "type": "choropleth"
           }
          ],
          "contour": [
           {
            "colorbar": {
             "outlinewidth": 0,
             "ticks": ""
            },
            "colorscale": [
             [
              0,
              "#0d0887"
             ],
             [
              0.1111111111111111,
              "#46039f"
             ],
             [
              0.2222222222222222,
              "#7201a8"
             ],
             [
              0.3333333333333333,
              "#9c179e"
             ],
             [
              0.4444444444444444,
              "#bd3786"
             ],
             [
              0.5555555555555556,
              "#d8576b"
             ],
             [
              0.6666666666666666,
              "#ed7953"
             ],
             [
              0.7777777777777778,
              "#fb9f3a"
             ],
             [
              0.8888888888888888,
              "#fdca26"
             ],
             [
              1,
              "#f0f921"
             ]
            ],
            "type": "contour"
           }
          ],
          "contourcarpet": [
           {
            "colorbar": {
             "outlinewidth": 0,
             "ticks": ""
            },
            "type": "contourcarpet"
           }
          ],
          "heatmap": [
           {
            "colorbar": {
             "outlinewidth": 0,
             "ticks": ""
            },
            "colorscale": [
             [
              0,
              "#0d0887"
             ],
             [
              0.1111111111111111,
              "#46039f"
             ],
             [
              0.2222222222222222,
              "#7201a8"
             ],
             [
              0.3333333333333333,
              "#9c179e"
             ],
             [
              0.4444444444444444,
              "#bd3786"
             ],
             [
              0.5555555555555556,
              "#d8576b"
             ],
             [
              0.6666666666666666,
              "#ed7953"
             ],
             [
              0.7777777777777778,
              "#fb9f3a"
             ],
             [
              0.8888888888888888,
              "#fdca26"
             ],
             [
              1,
              "#f0f921"
             ]
            ],
            "type": "heatmap"
           }
          ],
          "heatmapgl": [
           {
            "colorbar": {
             "outlinewidth": 0,
             "ticks": ""
            },
            "colorscale": [
             [
              0,
              "#0d0887"
             ],
             [
              0.1111111111111111,
              "#46039f"
             ],
             [
              0.2222222222222222,
              "#7201a8"
             ],
             [
              0.3333333333333333,
              "#9c179e"
             ],
             [
              0.4444444444444444,
              "#bd3786"
             ],
             [
              0.5555555555555556,
              "#d8576b"
             ],
             [
              0.6666666666666666,
              "#ed7953"
             ],
             [
              0.7777777777777778,
              "#fb9f3a"
             ],
             [
              0.8888888888888888,
              "#fdca26"
             ],
             [
              1,
              "#f0f921"
             ]
            ],
            "type": "heatmapgl"
           }
          ],
          "histogram": [
           {
            "marker": {
             "pattern": {
              "fillmode": "overlay",
              "size": 10,
              "solidity": 0.2
             }
            },
            "type": "histogram"
           }
          ],
          "histogram2d": [
           {
            "colorbar": {
             "outlinewidth": 0,
             "ticks": ""
            },
            "colorscale": [
             [
              0,
              "#0d0887"
             ],
             [
              0.1111111111111111,
              "#46039f"
             ],
             [
              0.2222222222222222,
              "#7201a8"
             ],
             [
              0.3333333333333333,
              "#9c179e"
             ],
             [
              0.4444444444444444,
              "#bd3786"
             ],
             [
              0.5555555555555556,
              "#d8576b"
             ],
             [
              0.6666666666666666,
              "#ed7953"
             ],
             [
              0.7777777777777778,
              "#fb9f3a"
             ],
             [
              0.8888888888888888,
              "#fdca26"
             ],
             [
              1,
              "#f0f921"
             ]
            ],
            "type": "histogram2d"
           }
          ],
          "histogram2dcontour": [
           {
            "colorbar": {
             "outlinewidth": 0,
             "ticks": ""
            },
            "colorscale": [
             [
              0,
              "#0d0887"
             ],
             [
              0.1111111111111111,
              "#46039f"
             ],
             [
              0.2222222222222222,
              "#7201a8"
             ],
             [
              0.3333333333333333,
              "#9c179e"
             ],
             [
              0.4444444444444444,
              "#bd3786"
             ],
             [
              0.5555555555555556,
              "#d8576b"
             ],
             [
              0.6666666666666666,
              "#ed7953"
             ],
             [
              0.7777777777777778,
              "#fb9f3a"
             ],
             [
              0.8888888888888888,
              "#fdca26"
             ],
             [
              1,
              "#f0f921"
             ]
            ],
            "type": "histogram2dcontour"
           }
          ],
          "mesh3d": [
           {
            "colorbar": {
             "outlinewidth": 0,
             "ticks": ""
            },
            "type": "mesh3d"
           }
          ],
          "parcoords": [
           {
            "line": {
             "colorbar": {
              "outlinewidth": 0,
              "ticks": ""
             }
            },
            "type": "parcoords"
           }
          ],
          "pie": [
           {
            "automargin": true,
            "type": "pie"
           }
          ],
          "scatter": [
           {
            "fillpattern": {
             "fillmode": "overlay",
             "size": 10,
             "solidity": 0.2
            },
            "type": "scatter"
           }
          ],
          "scatter3d": [
           {
            "line": {
             "colorbar": {
              "outlinewidth": 0,
              "ticks": ""
             }
            },
            "marker": {
             "colorbar": {
              "outlinewidth": 0,
              "ticks": ""
             }
            },
            "type": "scatter3d"
           }
          ],
          "scattercarpet": [
           {
            "marker": {
             "colorbar": {
              "outlinewidth": 0,
              "ticks": ""
             }
            },
            "type": "scattercarpet"
           }
          ],
          "scattergeo": [
           {
            "marker": {
             "colorbar": {
              "outlinewidth": 0,
              "ticks": ""
             }
            },
            "type": "scattergeo"
           }
          ],
          "scattergl": [
           {
            "marker": {
             "colorbar": {
              "outlinewidth": 0,
              "ticks": ""
             }
            },
            "type": "scattergl"
           }
          ],
          "scattermapbox": [
           {
            "marker": {
             "colorbar": {
              "outlinewidth": 0,
              "ticks": ""
             }
            },
            "type": "scattermapbox"
           }
          ],
          "scatterpolar": [
           {
            "marker": {
             "colorbar": {
              "outlinewidth": 0,
              "ticks": ""
             }
            },
            "type": "scatterpolar"
           }
          ],
          "scatterpolargl": [
           {
            "marker": {
             "colorbar": {
              "outlinewidth": 0,
              "ticks": ""
             }
            },
            "type": "scatterpolargl"
           }
          ],
          "scatterternary": [
           {
            "marker": {
             "colorbar": {
              "outlinewidth": 0,
              "ticks": ""
             }
            },
            "type": "scatterternary"
           }
          ],
          "surface": [
           {
            "colorbar": {
             "outlinewidth": 0,
             "ticks": ""
            },
            "colorscale": [
             [
              0,
              "#0d0887"
             ],
             [
              0.1111111111111111,
              "#46039f"
             ],
             [
              0.2222222222222222,
              "#7201a8"
             ],
             [
              0.3333333333333333,
              "#9c179e"
             ],
             [
              0.4444444444444444,
              "#bd3786"
             ],
             [
              0.5555555555555556,
              "#d8576b"
             ],
             [
              0.6666666666666666,
              "#ed7953"
             ],
             [
              0.7777777777777778,
              "#fb9f3a"
             ],
             [
              0.8888888888888888,
              "#fdca26"
             ],
             [
              1,
              "#f0f921"
             ]
            ],
            "type": "surface"
           }
          ],
          "table": [
           {
            "cells": {
             "fill": {
              "color": "#EBF0F8"
             },
             "line": {
              "color": "white"
             }
            },
            "header": {
             "fill": {
              "color": "#C8D4E3"
             },
             "line": {
              "color": "white"
             }
            },
            "type": "table"
           }
          ]
         },
         "layout": {
          "annotationdefaults": {
           "arrowcolor": "#2a3f5f",
           "arrowhead": 0,
           "arrowwidth": 1
          },
          "autotypenumbers": "strict",
          "coloraxis": {
           "colorbar": {
            "outlinewidth": 0,
            "ticks": ""
           }
          },
          "colorscale": {
           "diverging": [
            [
             0,
             "#8e0152"
            ],
            [
             0.1,
             "#c51b7d"
            ],
            [
             0.2,
             "#de77ae"
            ],
            [
             0.3,
             "#f1b6da"
            ],
            [
             0.4,
             "#fde0ef"
            ],
            [
             0.5,
             "#f7f7f7"
            ],
            [
             0.6,
             "#e6f5d0"
            ],
            [
             0.7,
             "#b8e186"
            ],
            [
             0.8,
             "#7fbc41"
            ],
            [
             0.9,
             "#4d9221"
            ],
            [
             1,
             "#276419"
            ]
           ],
           "sequential": [
            [
             0,
             "#0d0887"
            ],
            [
             0.1111111111111111,
             "#46039f"
            ],
            [
             0.2222222222222222,
             "#7201a8"
            ],
            [
             0.3333333333333333,
             "#9c179e"
            ],
            [
             0.4444444444444444,
             "#bd3786"
            ],
            [
             0.5555555555555556,
             "#d8576b"
            ],
            [
             0.6666666666666666,
             "#ed7953"
            ],
            [
             0.7777777777777778,
             "#fb9f3a"
            ],
            [
             0.8888888888888888,
             "#fdca26"
            ],
            [
             1,
             "#f0f921"
            ]
           ],
           "sequentialminus": [
            [
             0,
             "#0d0887"
            ],
            [
             0.1111111111111111,
             "#46039f"
            ],
            [
             0.2222222222222222,
             "#7201a8"
            ],
            [
             0.3333333333333333,
             "#9c179e"
            ],
            [
             0.4444444444444444,
             "#bd3786"
            ],
            [
             0.5555555555555556,
             "#d8576b"
            ],
            [
             0.6666666666666666,
             "#ed7953"
            ],
            [
             0.7777777777777778,
             "#fb9f3a"
            ],
            [
             0.8888888888888888,
             "#fdca26"
            ],
            [
             1,
             "#f0f921"
            ]
           ]
          },
          "colorway": [
           "#636efa",
           "#EF553B",
           "#00cc96",
           "#ab63fa",
           "#FFA15A",
           "#19d3f3",
           "#FF6692",
           "#B6E880",
           "#FF97FF",
           "#FECB52"
          ],
          "font": {
           "color": "#2a3f5f"
          },
          "geo": {
           "bgcolor": "white",
           "lakecolor": "white",
           "landcolor": "#E5ECF6",
           "showlakes": true,
           "showland": true,
           "subunitcolor": "white"
          },
          "hoverlabel": {
           "align": "left"
          },
          "hovermode": "closest",
          "mapbox": {
           "style": "light"
          },
          "paper_bgcolor": "white",
          "plot_bgcolor": "#E5ECF6",
          "polar": {
           "angularaxis": {
            "gridcolor": "white",
            "linecolor": "white",
            "ticks": ""
           },
           "bgcolor": "#E5ECF6",
           "radialaxis": {
            "gridcolor": "white",
            "linecolor": "white",
            "ticks": ""
           }
          },
          "scene": {
           "xaxis": {
            "backgroundcolor": "#E5ECF6",
            "gridcolor": "white",
            "gridwidth": 2,
            "linecolor": "white",
            "showbackground": true,
            "ticks": "",
            "zerolinecolor": "white"
           },
           "yaxis": {
            "backgroundcolor": "#E5ECF6",
            "gridcolor": "white",
            "gridwidth": 2,
            "linecolor": "white",
            "showbackground": true,
            "ticks": "",
            "zerolinecolor": "white"
           },
           "zaxis": {
            "backgroundcolor": "#E5ECF6",
            "gridcolor": "white",
            "gridwidth": 2,
            "linecolor": "white",
            "showbackground": true,
            "ticks": "",
            "zerolinecolor": "white"
           }
          },
          "shapedefaults": {
           "line": {
            "color": "#2a3f5f"
           }
          },
          "ternary": {
           "aaxis": {
            "gridcolor": "white",
            "linecolor": "white",
            "ticks": ""
           },
           "baxis": {
            "gridcolor": "white",
            "linecolor": "white",
            "ticks": ""
           },
           "bgcolor": "#E5ECF6",
           "caxis": {
            "gridcolor": "white",
            "linecolor": "white",
            "ticks": ""
           }
          },
          "title": {
           "x": 0.05
          },
          "xaxis": {
           "automargin": true,
           "gridcolor": "white",
           "linecolor": "white",
           "ticks": "",
           "title": {
            "standoff": 15
           },
           "zerolinecolor": "white",
           "zerolinewidth": 2
          },
          "yaxis": {
           "automargin": true,
           "gridcolor": "white",
           "linecolor": "white",
           "ticks": "",
           "title": {
            "standoff": 15
           },
           "zerolinecolor": "white",
           "zerolinewidth": 2
          }
         }
        },
        "title": {
         "font": {
          "size": 20
         },
         "text": "Parallel Coordinates Plot for Material Compositions"
        }
       }
      }
     },
     "metadata": {},
     "output_type": "display_data"
    }
   ],
   "source": [
    "# Convert the resulting dictionary to a DataFrame\n",
    "df_compositions = create_dataframe_from_dict(composition_data)\n",
    "print(df_compositions.head())\n",
    "\n",
    "# select the df compositions that have a value for column 'V' greater than 0.7\n",
    "df_compositions = df_compositions[df_compositions['V'] > 0.7]\n",
    "\n",
    "# randomly select 1000 compositions from df_compositions \n",
    "rand_df_compositions = df_compositions.sample(n=1000, random_state=42)\n",
    "\n",
    "# round the values in the df_compositions to 4 decimal places and sort the values in the V column by highest to lowest\n",
    "rand_df_compositions = rand_df_compositions.sort_values(by='V', ascending=False)\n",
    "rand_df_compositions = rand_df_compositions.round(4)\n",
    "\n",
    "# Optionally create a plot\n",
    "fig = create_parallel_coordinates_plot(rand_df_compositions, fitness_col='Fitness')\n",
    "fig.show()"
   ]
  }
 ],
 "metadata": {
  "kernelspec": {
   "display_name": "smol",
   "language": "python",
   "name": "python3"
  },
  "language_info": {
   "codemirror_mode": {
    "name": "ipython",
    "version": 3
   },
   "file_extension": ".py",
   "mimetype": "text/x-python",
   "name": "python",
   "nbconvert_exporter": "python",
   "pygments_lexer": "ipython3",
   "version": "3.10.0"
  }
 },
 "nbformat": 4,
 "nbformat_minor": 2
}
